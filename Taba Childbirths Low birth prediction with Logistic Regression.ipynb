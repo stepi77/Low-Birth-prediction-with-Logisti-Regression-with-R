{
 "cells": [
  {
   "cell_type": "markdown",
   "metadata": {},
   "source": [
    "# Lowbirth prediction with logistic regression "
   ]
  },
  {
   "cell_type": "code",
   "execution_count": 1,
   "metadata": {},
   "outputs": [],
   "source": [
    "childbirths <- read.csv('Childbirths.csv')"
   ]
  },
  {
   "cell_type": "code",
   "execution_count": 2,
   "metadata": {},
   "outputs": [
    {
     "data": {
      "text/html": [
       "<table class=\"dataframe\">\n",
       "<caption>A data.frame: 6 × 16</caption>\n",
       "<thead>\n",
       "\t<tr><th></th><th scope=col>ï..ID</th><th scope=col>Length</th><th scope=col>Birthweight</th><th scope=col>Headcirc</th><th scope=col>Gestation</th><th scope=col>smoker</th><th scope=col>mage</th><th scope=col>mnocig</th><th scope=col>mheight</th><th scope=col>mppwt</th><th scope=col>fage</th><th scope=col>fedyrs</th><th scope=col>fnocig</th><th scope=col>fheight</th><th scope=col>lowbwt</th><th scope=col>mage35</th></tr>\n",
       "\t<tr><th></th><th scope=col>&lt;int&gt;</th><th scope=col>&lt;int&gt;</th><th scope=col>&lt;dbl&gt;</th><th scope=col>&lt;int&gt;</th><th scope=col>&lt;int&gt;</th><th scope=col>&lt;int&gt;</th><th scope=col>&lt;int&gt;</th><th scope=col>&lt;int&gt;</th><th scope=col>&lt;int&gt;</th><th scope=col>&lt;int&gt;</th><th scope=col>&lt;int&gt;</th><th scope=col>&lt;int&gt;</th><th scope=col>&lt;int&gt;</th><th scope=col>&lt;int&gt;</th><th scope=col>&lt;int&gt;</th><th scope=col>&lt;int&gt;</th></tr>\n",
       "</thead>\n",
       "<tbody>\n",
       "\t<tr><th scope=row>1</th><td>1360</td><td>56</td><td>4.55</td><td>34</td><td>44</td><td>0</td><td>20</td><td>0</td><td>162</td><td>57</td><td>23</td><td>10</td><td>35</td><td>179</td><td>0</td><td>0</td></tr>\n",
       "\t<tr><th scope=row>2</th><td>1016</td><td>53</td><td>4.32</td><td>36</td><td>40</td><td>0</td><td>19</td><td>0</td><td>171</td><td>62</td><td>19</td><td>12</td><td> 0</td><td>183</td><td>0</td><td>0</td></tr>\n",
       "\t<tr><th scope=row>3</th><td> 462</td><td>58</td><td>4.10</td><td>39</td><td>41</td><td>0</td><td>35</td><td>0</td><td>172</td><td>58</td><td>31</td><td>16</td><td>25</td><td>185</td><td>0</td><td>1</td></tr>\n",
       "\t<tr><th scope=row>4</th><td>1187</td><td>53</td><td>4.07</td><td>38</td><td>44</td><td>0</td><td>20</td><td>0</td><td>174</td><td>68</td><td>26</td><td>14</td><td>25</td><td>189</td><td>0</td><td>0</td></tr>\n",
       "\t<tr><th scope=row>5</th><td> 553</td><td>54</td><td>3.94</td><td>37</td><td>42</td><td>0</td><td>24</td><td>0</td><td>175</td><td>66</td><td>30</td><td>12</td><td> 0</td><td>184</td><td>0</td><td>0</td></tr>\n",
       "\t<tr><th scope=row>6</th><td>1636</td><td>51</td><td>3.93</td><td>38</td><td>38</td><td>0</td><td>29</td><td>0</td><td>165</td><td>61</td><td>31</td><td>16</td><td> 0</td><td>180</td><td>0</td><td>0</td></tr>\n",
       "</tbody>\n",
       "</table>\n"
      ],
      "text/latex": [
       "A data.frame: 6 × 16\n",
       "\\begin{tabular}{r|llllllllllllllll}\n",
       "  & ï..ID & Length & Birthweight & Headcirc & Gestation & smoker & mage & mnocig & mheight & mppwt & fage & fedyrs & fnocig & fheight & lowbwt & mage35\\\\\n",
       "  & <int> & <int> & <dbl> & <int> & <int> & <int> & <int> & <int> & <int> & <int> & <int> & <int> & <int> & <int> & <int> & <int>\\\\\n",
       "\\hline\n",
       "\t1 & 1360 & 56 & 4.55 & 34 & 44 & 0 & 20 & 0 & 162 & 57 & 23 & 10 & 35 & 179 & 0 & 0\\\\\n",
       "\t2 & 1016 & 53 & 4.32 & 36 & 40 & 0 & 19 & 0 & 171 & 62 & 19 & 12 &  0 & 183 & 0 & 0\\\\\n",
       "\t3 &  462 & 58 & 4.10 & 39 & 41 & 0 & 35 & 0 & 172 & 58 & 31 & 16 & 25 & 185 & 0 & 1\\\\\n",
       "\t4 & 1187 & 53 & 4.07 & 38 & 44 & 0 & 20 & 0 & 174 & 68 & 26 & 14 & 25 & 189 & 0 & 0\\\\\n",
       "\t5 &  553 & 54 & 3.94 & 37 & 42 & 0 & 24 & 0 & 175 & 66 & 30 & 12 &  0 & 184 & 0 & 0\\\\\n",
       "\t6 & 1636 & 51 & 3.93 & 38 & 38 & 0 & 29 & 0 & 165 & 61 & 31 & 16 &  0 & 180 & 0 & 0\\\\\n",
       "\\end{tabular}\n"
      ],
      "text/markdown": [
       "\n",
       "A data.frame: 6 × 16\n",
       "\n",
       "| <!--/--> | ï..ID &lt;int&gt; | Length &lt;int&gt; | Birthweight &lt;dbl&gt; | Headcirc &lt;int&gt; | Gestation &lt;int&gt; | smoker &lt;int&gt; | mage &lt;int&gt; | mnocig &lt;int&gt; | mheight &lt;int&gt; | mppwt &lt;int&gt; | fage &lt;int&gt; | fedyrs &lt;int&gt; | fnocig &lt;int&gt; | fheight &lt;int&gt; | lowbwt &lt;int&gt; | mage35 &lt;int&gt; |\n",
       "|---|---|---|---|---|---|---|---|---|---|---|---|---|---|---|---|---|\n",
       "| 1 | 1360 | 56 | 4.55 | 34 | 44 | 0 | 20 | 0 | 162 | 57 | 23 | 10 | 35 | 179 | 0 | 0 |\n",
       "| 2 | 1016 | 53 | 4.32 | 36 | 40 | 0 | 19 | 0 | 171 | 62 | 19 | 12 |  0 | 183 | 0 | 0 |\n",
       "| 3 |  462 | 58 | 4.10 | 39 | 41 | 0 | 35 | 0 | 172 | 58 | 31 | 16 | 25 | 185 | 0 | 1 |\n",
       "| 4 | 1187 | 53 | 4.07 | 38 | 44 | 0 | 20 | 0 | 174 | 68 | 26 | 14 | 25 | 189 | 0 | 0 |\n",
       "| 5 |  553 | 54 | 3.94 | 37 | 42 | 0 | 24 | 0 | 175 | 66 | 30 | 12 |  0 | 184 | 0 | 0 |\n",
       "| 6 | 1636 | 51 | 3.93 | 38 | 38 | 0 | 29 | 0 | 165 | 61 | 31 | 16 |  0 | 180 | 0 | 0 |\n",
       "\n"
      ],
      "text/plain": [
       "  ï..ID Length Birthweight Headcirc Gestation smoker mage mnocig mheight mppwt\n",
       "1 1360  56     4.55        34       44        0      20   0      162     57   \n",
       "2 1016  53     4.32        36       40        0      19   0      171     62   \n",
       "3  462  58     4.10        39       41        0      35   0      172     58   \n",
       "4 1187  53     4.07        38       44        0      20   0      174     68   \n",
       "5  553  54     3.94        37       42        0      24   0      175     66   \n",
       "6 1636  51     3.93        38       38        0      29   0      165     61   \n",
       "  fage fedyrs fnocig fheight lowbwt mage35\n",
       "1 23   10     35     179     0      0     \n",
       "2 19   12      0     183     0      0     \n",
       "3 31   16     25     185     0      1     \n",
       "4 26   14     25     189     0      0     \n",
       "5 30   12      0     184     0      0     \n",
       "6 31   16      0     180     0      0     "
      ]
     },
     "metadata": {},
     "output_type": "display_data"
    }
   ],
   "source": [
    "head(childbirths)"
   ]
  },
  {
   "cell_type": "code",
   "execution_count": 3,
   "metadata": {},
   "outputs": [
    {
     "name": "stdout",
     "output_type": "stream",
     "text": [
      "'data.frame':\t42 obs. of  16 variables:\n",
      " $ ï..ID      : int  1360 1016 462 1187 553 1636 820 1191 1081 822 ...\n",
      " $ Length     : int  56 53 58 53 54 51 52 53 54 50 ...\n",
      " $ Birthweight: num  4.55 4.32 4.1 4.07 3.94 3.93 3.77 3.65 3.63 3.42 ...\n",
      " $ Headcirc   : int  34 36 39 38 37 38 34 33 38 35 ...\n",
      " $ Gestation  : int  44 40 41 44 42 38 40 42 38 38 ...\n",
      " $ smoker     : int  0 0 0 0 0 0 0 0 0 0 ...\n",
      " $ mage       : int  20 19 35 20 24 29 24 21 18 20 ...\n",
      " $ mnocig     : int  0 0 0 0 0 0 0 0 0 0 ...\n",
      " $ mheight    : int  162 171 172 174 175 165 157 165 172 157 ...\n",
      " $ mppwt      : int  57 62 58 68 66 61 50 61 50 48 ...\n",
      " $ fage       : int  23 19 31 26 30 31 31 21 20 22 ...\n",
      " $ fedyrs     : int  10 12 16 14 12 16 16 10 12 14 ...\n",
      " $ fnocig     : int  35 0 25 25 0 0 0 25 7 0 ...\n",
      " $ fheight    : int  179 183 185 189 184 180 173 185 172 179 ...\n",
      " $ lowbwt     : int  0 0 0 0 0 0 0 0 0 0 ...\n",
      " $ mage35     : int  0 0 1 0 0 0 0 0 0 0 ...\n"
     ]
    }
   ],
   "source": [
    "str(childbirths)"
   ]
  },
  {
   "cell_type": "code",
   "execution_count": 4,
   "metadata": {
    "ExecuteTime": {
     "end_time": "2021-03-09T17:21:14.343198Z",
     "start_time": "2021-03-09T17:21:14.088Z"
    }
   },
   "outputs": [],
   "source": [
    "childbirths['ï..ID']<- NULL"
   ]
  },
  {
   "cell_type": "code",
   "execution_count": 5,
   "metadata": {
    "ExecuteTime": {
     "end_time": "2021-03-09T17:21:14.365259Z",
     "start_time": "2021-03-09T17:21:14.089Z"
    }
   },
   "outputs": [
    {
     "data": {
      "text/plain": [
       "     Length       Birthweight       Headcirc      Gestation    \n",
       " Min.   :43.00   Min.   :1.920   Min.   :30.0   Min.   :33.00  \n",
       " 1st Qu.:50.00   1st Qu.:2.940   1st Qu.:33.0   1st Qu.:38.00  \n",
       " Median :52.00   Median :3.295   Median :34.0   Median :39.50  \n",
       " Mean   :51.33   Mean   :3.313   Mean   :34.6   Mean   :39.19  \n",
       " 3rd Qu.:53.00   3rd Qu.:3.647   3rd Qu.:36.0   3rd Qu.:41.00  \n",
       " Max.   :58.00   Max.   :4.570   Max.   :39.0   Max.   :45.00  \n",
       "     smoker            mage           mnocig          mheight     \n",
       " Min.   :0.0000   Min.   :18.00   Min.   : 0.000   Min.   :149.0  \n",
       " 1st Qu.:0.0000   1st Qu.:20.25   1st Qu.: 0.000   1st Qu.:161.0  \n",
       " Median :1.0000   Median :24.00   Median : 4.500   Median :164.5  \n",
       " Mean   :0.5238   Mean   :25.55   Mean   : 9.429   Mean   :164.5  \n",
       " 3rd Qu.:1.0000   3rd Qu.:29.00   3rd Qu.:15.750   3rd Qu.:169.5  \n",
       " Max.   :1.0000   Max.   :41.00   Max.   :50.000   Max.   :181.0  \n",
       "     mppwt            fage          fedyrs          fnocig         fheight     \n",
       " Min.   :45.00   Min.   :19.0   Min.   :10.00   Min.   : 0.00   Min.   :169.0  \n",
       " 1st Qu.:52.25   1st Qu.:23.0   1st Qu.:12.00   1st Qu.: 0.00   1st Qu.:175.2  \n",
       " Median :57.00   Median :29.5   Median :14.00   Median :18.50   Median :180.5  \n",
       " Mean   :57.50   Mean   :28.9   Mean   :13.67   Mean   :17.19   Mean   :180.5  \n",
       " 3rd Qu.:62.00   3rd Qu.:32.0   3rd Qu.:16.00   3rd Qu.:25.00   3rd Qu.:184.8  \n",
       " Max.   :78.00   Max.   :46.0   Max.   :16.00   Max.   :50.00   Max.   :200.0  \n",
       "     lowbwt           mage35       \n",
       " Min.   :0.0000   Min.   :0.00000  \n",
       " 1st Qu.:0.0000   1st Qu.:0.00000  \n",
       " Median :0.0000   Median :0.00000  \n",
       " Mean   :0.1429   Mean   :0.09524  \n",
       " 3rd Qu.:0.0000   3rd Qu.:0.00000  \n",
       " Max.   :1.0000   Max.   :1.00000  "
      ]
     },
     "metadata": {},
     "output_type": "display_data"
    }
   ],
   "source": [
    "summary(childbirths)"
   ]
  },
  {
   "cell_type": "code",
   "execution_count": 6,
   "metadata": {},
   "outputs": [
    {
     "data": {
      "image/png": "[encoded data removed]",
      "text/plain": [
       "Plot with title \"Histogram of childbirths$Length\""
      ]
     },
     "metadata": {
      "image/png": {
       "height": 420,
       "width": 420
      }
     },
     "output_type": "display_data"
    }
   ],
   "source": [
    "hist(childbirths$Length)"
   ]
  },
  {
   "cell_type": "code",
   "execution_count": 7,
   "metadata": {},
   "outputs": [
    {
     "data": {
      "image/png": "[encoded data removed]",
      "text/plain": [
       "Plot with title \"Histogram of childbirths$Gestation\""
      ]
     },
     "metadata": {
      "image/png": {
       "height": 420,
       "width": 420
      }
     },
     "output_type": "display_data"
    }
   ],
   "source": [
    "hist(childbirths$Gestation)"
   ]
  },
  {
   "cell_type": "code",
   "execution_count": 8,
   "metadata": {},
   "outputs": [
    {
     "data": {
      "image/png": "[encoded data removed]",
      "text/plain": [
       "Plot with title \"Histogram of childbirths$Birthweight\""
      ]
     },
     "metadata": {
      "image/png": {
       "height": 420,
       "width": 420
      }
     },
     "output_type": "display_data"
    }
   ],
   "source": [
    "hist(childbirths$Birthweight)"
   ]
  },
  {
   "cell_type": "code",
   "execution_count": 9,
   "metadata": {},
   "outputs": [
    {
     "data": {
      "image/png": "[encoded data removed]",
      "text/plain": [
       "Plot with title \"Histogram of childbirths$Headcirc\""
      ]
     },
     "metadata": {
      "image/png": {
       "height": 420,
       "width": 420
      }
     },
     "output_type": "display_data"
    }
   ],
   "source": [
    "hist(childbirths$Headcirc)"
   ]
  },
  {
   "cell_type": "code",
   "execution_count": 10,
   "metadata": {},
   "outputs": [
    {
     "data": {
      "image/png": "[encoded data removed]",
      "text/plain": [
       "Plot with title \"Histogram of childbirths$lowbwt\""
      ]
     },
     "metadata": {
      "image/png": {
       "height": 420,
       "width": 420
      }
     },
     "output_type": "display_data"
    }
   ],
   "source": [
    "hist(childbirths$lowbwt)"
   ]
  },
  {
   "cell_type": "code",
   "execution_count": 11,
   "metadata": {},
   "outputs": [
    {
     "data": {
      "text/plain": [
       "\n",
       " 0  1 \n",
       "36  6 "
      ]
     },
     "metadata": {},
     "output_type": "display_data"
    }
   ],
   "source": [
    "table(childbirths$lowbwt)"
   ]
  },
  {
   "cell_type": "markdown",
   "metadata": {},
   "source": [
    "# Logistic Regression"
   ]
  },
  {
   "cell_type": "markdown",
   "metadata": {},
   "source": [
    "## GLM general lm"
   ]
  },
  {
   "cell_type": "code",
   "execution_count": 12,
   "metadata": {
    "ExecuteTime": {
     "end_time": "2021-03-09T17:21:14.389904Z",
     "start_time": "2021-03-09T17:21:14.200Z"
    }
   },
   "outputs": [
    {
     "name": "stderr",
     "output_type": "stream",
     "text": [
      "Warning message:\n",
      "\"glm.fit: algorithm did not converge\"\n",
      "Warning message:\n",
      "\"glm.fit: fitted probabilities numerically 0 or 1 occurred\"\n"
     ]
    }
   ],
   "source": [
    "logit <- glm(lowbwt ~ Length + Birthweight + Headcirc + Gestation + smoker + mage + mnocig + mheight + mppwt + fage + fedyrs + fnocig + fheight + mage35 , data = childbirths, family = \"binomial\")"
   ]
  },
  {
   "cell_type": "code",
   "execution_count": 13,
   "metadata": {
    "ExecuteTime": {
     "end_time": "2021-03-09T17:21:14.418805Z",
     "start_time": "2021-03-09T17:21:14.200Z"
    }
   },
   "outputs": [
    {
     "data": {
      "text/plain": [
       "\n",
       "Call:\n",
       "glm(formula = lowbwt ~ Length + Birthweight + Headcirc + Gestation + \n",
       "    smoker + mage + mnocig + mheight + mppwt + fage + fedyrs + \n",
       "    fnocig + fheight + mage35, family = \"binomial\", data = childbirths)\n",
       "\n",
       "Deviance Residuals: \n",
       "       Min          1Q      Median          3Q         Max  \n",
       "-1.014e-05  -2.609e-06  -2.110e-08  -2.110e-08   1.052e-05  \n",
       "\n",
       "Coefficients:\n",
       "              Estimate Std. Error z value Pr(>|z|)\n",
       "(Intercept)  1.986e+02  2.059e+06       0        1\n",
       "Length      -9.138e+00  4.317e+04       0        1\n",
       "Birthweight -2.885e+01  2.540e+05       0        1\n",
       "Headcirc     3.699e+00  3.518e+04       0        1\n",
       "Gestation    1.670e+00  5.411e+04       0        1\n",
       "smoker       5.457e+00  2.015e+05       0        1\n",
       "mage        -4.327e+00  3.318e+04       0        1\n",
       "mnocig      -8.414e-01  9.009e+03       0        1\n",
       "mheight      6.590e-01  1.455e+04       0        1\n",
       "mppwt       -7.393e-01  1.365e+04       0        1\n",
       "fage         8.021e-01  2.532e+04       0        1\n",
       "fedyrs       2.048e+00  5.189e+04       0        1\n",
       "fnocig       6.541e-01  8.683e+03       0        1\n",
       "fheight      6.285e-01  1.337e+04       0        1\n",
       "mage35       9.555e+01  4.487e+05       0        1\n",
       "\n",
       "(Dispersion parameter for binomial family taken to be 1)\n",
       "\n",
       "    Null deviance: 3.445e+01  on 41  degrees of freedom\n",
       "Residual deviance: 8.222e-10  on 27  degrees of freedom\n",
       "AIC: 30\n",
       "\n",
       "Number of Fisher Scoring iterations: 25\n"
      ]
     },
     "metadata": {},
     "output_type": "display_data"
    }
   ],
   "source": [
    "summary(logit)"
   ]
  },
  {
   "cell_type": "markdown",
   "metadata": {},
   "source": [
    "since all the pr values are 1, I diminish the number of the IV accoding to the pca factor 1"
   ]
  },
  {
   "cell_type": "code",
   "execution_count": 14,
   "metadata": {},
   "outputs": [],
   "source": [
    "logit1 <- glm(lowbwt ~  smoker + mage + mnocig + fage + fedyrs + fnocig + fheight + mage35 , data = childbirths, family = \"binomial\")"
   ]
  },
  {
   "cell_type": "code",
   "execution_count": 15,
   "metadata": {},
   "outputs": [
    {
     "data": {
      "text/plain": [
       "\n",
       "Call:\n",
       "glm(formula = lowbwt ~ smoker + mage + mnocig + fage + fedyrs + \n",
       "    fnocig + fheight + mage35, family = \"binomial\", data = childbirths)\n",
       "\n",
       "Deviance Residuals: \n",
       "     Min        1Q    Median        3Q       Max  \n",
       "-1.23346  -0.35717  -0.14809  -0.02315   2.78467  \n",
       "\n",
       "Coefficients:\n",
       "            Estimate Std. Error z value Pr(>|z|)  \n",
       "(Intercept) 18.44490   18.52190   0.996   0.3193  \n",
       "smoker       3.25601    1.73778   1.874   0.0610 .\n",
       "mage         0.29748    0.38460   0.773   0.4392  \n",
       "mnocig      -0.07830    0.06624  -1.182   0.2372  \n",
       "fage        -0.60305    0.37124  -1.624   0.1043  \n",
       "fedyrs       0.24563    0.43152   0.569   0.5692  \n",
       "fnocig       0.11673    0.06478   1.802   0.0715 .\n",
       "fheight     -0.10468    0.10504  -0.997   0.3189  \n",
       "mage35       1.38690    3.84862   0.360   0.7186  \n",
       "---\n",
       "Signif. codes:  0 '***' 0.001 '**' 0.01 '*' 0.05 '.' 0.1 ' ' 1\n",
       "\n",
       "(Dispersion parameter for binomial family taken to be 1)\n",
       "\n",
       "    Null deviance: 34.450  on 41  degrees of freedom\n",
       "Residual deviance: 18.286  on 33  degrees of freedom\n",
       "AIC: 36.286\n",
       "\n",
       "Number of Fisher Scoring iterations: 7\n"
      ]
     },
     "metadata": {},
     "output_type": "display_data"
    }
   ],
   "source": [
    "summary(logit1)"
   ]
  },
  {
   "cell_type": "code",
   "execution_count": null,
   "metadata": {
    "ExecuteTime": {
     "end_time": "2021-03-09T17:21:14.786107Z",
     "start_time": "2021-03-09T17:21:14.201Z"
    }
   },
   "outputs": [],
   "source": [
    "?glm"
   ]
  },
  {
   "cell_type": "code",
   "execution_count": 16,
   "metadata": {},
   "outputs": [
    {
     "data": {
      "text/html": [
       "<style>\n",
       ".list-inline {list-style: none; margin:0; padding: 0}\n",
       ".list-inline>li {display: inline-block}\n",
       ".list-inline>li:not(:last-child)::after {content: \"\\00b7\"; padding: 0 .5ex}\n",
       "</style>\n",
       "<ol class=list-inline><li>'coefficients'</li><li>'residuals'</li><li>'fitted.values'</li><li>'effects'</li><li>'R'</li><li>'rank'</li><li>'qr'</li><li>'family'</li><li>'linear.predictors'</li><li>'deviance'</li><li>'aic'</li><li>'null.deviance'</li><li>'iter'</li><li>'weights'</li><li>'prior.weights'</li><li>'df.residual'</li><li>'df.null'</li><li>'y'</li><li>'converged'</li><li>'boundary'</li><li>'model'</li><li>'call'</li><li>'formula'</li><li>'terms'</li><li>'data'</li><li>'offset'</li><li>'control'</li><li>'method'</li><li>'contrasts'</li><li>'xlevels'</li></ol>\n"
      ],
      "text/latex": [
       "\\begin{enumerate*}\n",
       "\\item 'coefficients'\n",
       "\\item 'residuals'\n",
       "\\item 'fitted.values'\n",
       "\\item 'effects'\n",
       "\\item 'R'\n",
       "\\item 'rank'\n",
       "\\item 'qr'\n",
       "\\item 'family'\n",
       "\\item 'linear.predictors'\n",
       "\\item 'deviance'\n",
       "\\item 'aic'\n",
       "\\item 'null.deviance'\n",
       "\\item 'iter'\n",
       "\\item 'weights'\n",
       "\\item 'prior.weights'\n",
       "\\item 'df.residual'\n",
       "\\item 'df.null'\n",
       "\\item 'y'\n",
       "\\item 'converged'\n",
       "\\item 'boundary'\n",
       "\\item 'model'\n",
       "\\item 'call'\n",
       "\\item 'formula'\n",
       "\\item 'terms'\n",
       "\\item 'data'\n",
       "\\item 'offset'\n",
       "\\item 'control'\n",
       "\\item 'method'\n",
       "\\item 'contrasts'\n",
       "\\item 'xlevels'\n",
       "\\end{enumerate*}\n"
      ],
      "text/markdown": [
       "1. 'coefficients'\n",
       "2. 'residuals'\n",
       "3. 'fitted.values'\n",
       "4. 'effects'\n",
       "5. 'R'\n",
       "6. 'rank'\n",
       "7. 'qr'\n",
       "8. 'family'\n",
       "9. 'linear.predictors'\n",
       "10. 'deviance'\n",
       "11. 'aic'\n",
       "12. 'null.deviance'\n",
       "13. 'iter'\n",
       "14. 'weights'\n",
       "15. 'prior.weights'\n",
       "16. 'df.residual'\n",
       "17. 'df.null'\n",
       "18. 'y'\n",
       "19. 'converged'\n",
       "20. 'boundary'\n",
       "21. 'model'\n",
       "22. 'call'\n",
       "23. 'formula'\n",
       "24. 'terms'\n",
       "25. 'data'\n",
       "26. 'offset'\n",
       "27. 'control'\n",
       "28. 'method'\n",
       "29. 'contrasts'\n",
       "30. 'xlevels'\n",
       "\n",
       "\n"
      ],
      "text/plain": [
       " [1] \"coefficients\"      \"residuals\"         \"fitted.values\"    \n",
       " [4] \"effects\"           \"R\"                 \"rank\"             \n",
       " [7] \"qr\"                \"family\"            \"linear.predictors\"\n",
       "[10] \"deviance\"          \"aic\"               \"null.deviance\"    \n",
       "[13] \"iter\"              \"weights\"           \"prior.weights\"    \n",
       "[16] \"df.residual\"       \"df.null\"           \"y\"                \n",
       "[19] \"converged\"         \"boundary\"          \"model\"            \n",
       "[22] \"call\"              \"formula\"           \"terms\"            \n",
       "[25] \"data\"              \"offset\"            \"control\"          \n",
       "[28] \"method\"            \"contrasts\"         \"xlevels\"          "
      ]
     },
     "metadata": {},
     "output_type": "display_data"
    }
   ],
   "source": [
    "names(logit1)"
   ]
  },
  {
   "cell_type": "markdown",
   "metadata": {},
   "source": [
    "## Coefficients"
   ]
  },
  {
   "cell_type": "code",
   "execution_count": 17,
   "metadata": {
    "ExecuteTime": {
     "end_time": "2021-03-09T17:21:14.807226Z",
     "start_time": "2021-03-09T17:21:14.257Z"
    }
   },
   "outputs": [
    {
     "data": {
      "text/html": [
       "<style>\n",
       ".dl-inline {width: auto; margin:0; padding: 0}\n",
       ".dl-inline>dt, .dl-inline>dd {float: none; width: auto; display: inline-block}\n",
       ".dl-inline>dt::after {content: \":\\0020\"; padding-right: .5ex}\n",
       ".dl-inline>dt:not(:first-of-type) {padding-left: .5ex}\n",
       "</style><dl class=dl-inline><dt>(Intercept)</dt><dd>18.4449032979221</dd><dt>smoker</dt><dd>3.2560083611097</dd><dt>mage</dt><dd>0.297476466247327</dd><dt>mnocig</dt><dd>-0.0782954591194901</dd><dt>fage</dt><dd>-0.603052942811575</dd><dt>fedyrs</dt><dd>0.245629774408031</dd><dt>fnocig</dt><dd>0.116732955506332</dd><dt>fheight</dt><dd>-0.104682284152137</dd><dt>mage35</dt><dd>1.38689948250294</dd></dl>\n"
      ],
      "text/latex": [
       "\\begin{description*}\n",
       "\\item[(Intercept)] 18.4449032979221\n",
       "\\item[smoker] 3.2560083611097\n",
       "\\item[mage] 0.297476466247327\n",
       "\\item[mnocig] -0.0782954591194901\n",
       "\\item[fage] -0.603052942811575\n",
       "\\item[fedyrs] 0.245629774408031\n",
       "\\item[fnocig] 0.116732955506332\n",
       "\\item[fheight] -0.104682284152137\n",
       "\\item[mage35] 1.38689948250294\n",
       "\\end{description*}\n"
      ],
      "text/markdown": [
       "(Intercept)\n",
       ":   18.4449032979221smoker\n",
       ":   3.2560083611097mage\n",
       ":   0.297476466247327mnocig\n",
       ":   -0.0782954591194901fage\n",
       ":   -0.603052942811575fedyrs\n",
       ":   0.245629774408031fnocig\n",
       ":   0.116732955506332fheight\n",
       ":   -0.104682284152137mage35\n",
       ":   1.38689948250294\n",
       "\n"
      ],
      "text/plain": [
       "(Intercept)      smoker        mage      mnocig        fage      fedyrs \n",
       "18.44490330  3.25600836  0.29747647 -0.07829546 -0.60305294  0.24562977 \n",
       "     fnocig     fheight      mage35 \n",
       " 0.11673296 -0.10468228  1.38689948 "
      ]
     },
     "metadata": {},
     "output_type": "display_data"
    },
    {
     "data": {
      "text/html": [
       "<style>\n",
       ".dl-inline {width: auto; margin:0; padding: 0}\n",
       ".dl-inline>dt, .dl-inline>dd {float: none; width: auto; display: inline-block}\n",
       ".dl-inline>dt::after {content: \":\\0020\"; padding-right: .5ex}\n",
       ".dl-inline>dt:not(:first-of-type) {padding-left: .5ex}\n",
       "</style><dl class=dl-inline><dt>(Intercept)</dt><dd>18.4449032979221</dd><dt>smoker</dt><dd>3.2560083611097</dd><dt>mage</dt><dd>0.297476466247327</dd><dt>mnocig</dt><dd>-0.0782954591194901</dd><dt>fage</dt><dd>-0.603052942811575</dd><dt>fedyrs</dt><dd>0.245629774408031</dd><dt>fnocig</dt><dd>0.116732955506332</dd><dt>fheight</dt><dd>-0.104682284152137</dd><dt>mage35</dt><dd>1.38689948250294</dd></dl>\n"
      ],
      "text/latex": [
       "\\begin{description*}\n",
       "\\item[(Intercept)] 18.4449032979221\n",
       "\\item[smoker] 3.2560083611097\n",
       "\\item[mage] 0.297476466247327\n",
       "\\item[mnocig] -0.0782954591194901\n",
       "\\item[fage] -0.603052942811575\n",
       "\\item[fedyrs] 0.245629774408031\n",
       "\\item[fnocig] 0.116732955506332\n",
       "\\item[fheight] -0.104682284152137\n",
       "\\item[mage35] 1.38689948250294\n",
       "\\end{description*}\n"
      ],
      "text/markdown": [
       "(Intercept)\n",
       ":   18.4449032979221smoker\n",
       ":   3.2560083611097mage\n",
       ":   0.297476466247327mnocig\n",
       ":   -0.0782954591194901fage\n",
       ":   -0.603052942811575fedyrs\n",
       ":   0.245629774408031fnocig\n",
       ":   0.116732955506332fheight\n",
       ":   -0.104682284152137mage35\n",
       ":   1.38689948250294\n",
       "\n"
      ],
      "text/plain": [
       "(Intercept)      smoker        mage      mnocig        fage      fedyrs \n",
       "18.44490330  3.25600836  0.29747647 -0.07829546 -0.60305294  0.24562977 \n",
       "     fnocig     fheight      mage35 \n",
       " 0.11673296 -0.10468228  1.38689948 "
      ]
     },
     "metadata": {},
     "output_type": "display_data"
    }
   ],
   "source": [
    "coef(logit1)\n",
    "logit1$coefficients"
   ]
  },
  {
   "cell_type": "code",
   "execution_count": 18,
   "metadata": {},
   "outputs": [
    {
     "name": "stderr",
     "output_type": "stream",
     "text": [
      "Waiting for profiling to be done...\n",
      "\n",
      "Warning message:\n",
      "\"glm.fit: fitted probabilities numerically 0 or 1 occurred\"\n",
      "Warning message:\n",
      "\"glm.fit: fitted probabilities numerically 0 or 1 occurred\"\n",
      "Warning message:\n",
      "\"glm.fit: fitted probabilities numerically 0 or 1 occurred\"\n",
      "Warning message:\n",
      "\"glm.fit: fitted probabilities numerically 0 or 1 occurred\"\n"
     ]
    },
    {
     "data": {
      "text/html": [
       "<table class=\"dataframe\">\n",
       "<caption>A matrix: 9 × 2 of type dbl</caption>\n",
       "<thead>\n",
       "\t<tr><th></th><th scope=col>2.5 %</th><th scope=col>97.5 %</th></tr>\n",
       "</thead>\n",
       "<tbody>\n",
       "\t<tr><th scope=row>(Intercept)</th><td>-16.773931406</td><td>60.11755861</td></tr>\n",
       "\t<tr><th scope=row>smoker</th><td>  0.206252201</td><td> 7.46118862</td></tr>\n",
       "\t<tr><th scope=row>mage</th><td> -0.464966094</td><td> 1.21063843</td></tr>\n",
       "\t<tr><th scope=row>mnocig</th><td> -0.265458467</td><td> 0.03006065</td></tr>\n",
       "\t<tr><th scope=row>fage</th><td> -1.720519753</td><td>-0.04320799</td></tr>\n",
       "\t<tr><th scope=row>fedyrs</th><td> -0.554580311</td><td> 1.24576336</td></tr>\n",
       "\t<tr><th scope=row>fnocig</th><td>  0.008534313</td><td> 0.28577801</td></tr>\n",
       "\t<tr><th scope=row>fheight</th><td> -0.344766424</td><td> 0.09693142</td></tr>\n",
       "\t<tr><th scope=row>mage35</th><td> -6.607146246</td><td>10.15735246</td></tr>\n",
       "</tbody>\n",
       "</table>\n"
      ],
      "text/latex": [
       "A matrix: 9 × 2 of type dbl\n",
       "\\begin{tabular}{r|ll}\n",
       "  & 2.5 \\% & 97.5 \\%\\\\\n",
       "\\hline\n",
       "\t(Intercept) & -16.773931406 & 60.11755861\\\\\n",
       "\tsmoker &   0.206252201 &  7.46118862\\\\\n",
       "\tmage &  -0.464966094 &  1.21063843\\\\\n",
       "\tmnocig &  -0.265458467 &  0.03006065\\\\\n",
       "\tfage &  -1.720519753 & -0.04320799\\\\\n",
       "\tfedyrs &  -0.554580311 &  1.24576336\\\\\n",
       "\tfnocig &   0.008534313 &  0.28577801\\\\\n",
       "\tfheight &  -0.344766424 &  0.09693142\\\\\n",
       "\tmage35 &  -6.607146246 & 10.15735246\\\\\n",
       "\\end{tabular}\n"
      ],
      "text/markdown": [
       "\n",
       "A matrix: 9 × 2 of type dbl\n",
       "\n",
       "| <!--/--> | 2.5 % | 97.5 % |\n",
       "|---|---|---|\n",
       "| (Intercept) | -16.773931406 | 60.11755861 |\n",
       "| smoker |   0.206252201 |  7.46118862 |\n",
       "| mage |  -0.464966094 |  1.21063843 |\n",
       "| mnocig |  -0.265458467 |  0.03006065 |\n",
       "| fage |  -1.720519753 | -0.04320799 |\n",
       "| fedyrs |  -0.554580311 |  1.24576336 |\n",
       "| fnocig |   0.008534313 |  0.28577801 |\n",
       "| fheight |  -0.344766424 |  0.09693142 |\n",
       "| mage35 |  -6.607146246 | 10.15735246 |\n",
       "\n"
      ],
      "text/plain": [
       "            2.5 %         97.5 %     \n",
       "(Intercept) -16.773931406 60.11755861\n",
       "smoker        0.206252201  7.46118862\n",
       "mage         -0.464966094  1.21063843\n",
       "mnocig       -0.265458467  0.03006065\n",
       "fage         -1.720519753 -0.04320799\n",
       "fedyrs       -0.554580311  1.24576336\n",
       "fnocig        0.008534313  0.28577801\n",
       "fheight      -0.344766424  0.09693142\n",
       "mage35       -6.607146246 10.15735246"
      ]
     },
     "metadata": {},
     "output_type": "display_data"
    }
   ],
   "source": [
    "confint(logit1)   #confindence interval of the model"
   ]
  },
  {
   "cell_type": "code",
   "execution_count": 19,
   "metadata": {
    "ExecuteTime": {
     "end_time": "2021-03-09T17:21:14.922675Z",
     "start_time": "2021-03-09T17:21:14.258Z"
    },
    "scrolled": true
   },
   "outputs": [
    {
     "name": "stderr",
     "output_type": "stream",
     "text": [
      "Waiting for profiling to be done...\n",
      "\n",
      "Warning message:\n",
      "\"glm.fit: fitted probabilities numerically 0 or 1 occurred\"\n",
      "Warning message:\n",
      "\"glm.fit: fitted probabilities numerically 0 or 1 occurred\"\n",
      "Warning message:\n",
      "\"glm.fit: fitted probabilities numerically 0 or 1 occurred\"\n",
      "Warning message:\n",
      "\"glm.fit: fitted probabilities numerically 0 or 1 occurred\"\n"
     ]
    },
    {
     "data": {
      "text/html": [
       "<table class=\"dataframe\">\n",
       "<caption>A matrix: 9 × 3 of type dbl</caption>\n",
       "<thead>\n",
       "\t<tr><th></th><th scope=col></th><th scope=col>2.5 %</th><th scope=col>97.5 %</th></tr>\n",
       "</thead>\n",
       "<tbody>\n",
       "\t<tr><th scope=row>(Intercept)</th><td>18.44490330</td><td>-16.773931406</td><td>60.11755861</td></tr>\n",
       "\t<tr><th scope=row>smoker</th><td> 3.25600836</td><td>  0.206252201</td><td> 7.46118862</td></tr>\n",
       "\t<tr><th scope=row>mage</th><td> 0.29747647</td><td> -0.464966094</td><td> 1.21063843</td></tr>\n",
       "\t<tr><th scope=row>mnocig</th><td>-0.07829546</td><td> -0.265458467</td><td> 0.03006065</td></tr>\n",
       "\t<tr><th scope=row>fage</th><td>-0.60305294</td><td> -1.720519753</td><td>-0.04320799</td></tr>\n",
       "\t<tr><th scope=row>fedyrs</th><td> 0.24562977</td><td> -0.554580311</td><td> 1.24576336</td></tr>\n",
       "\t<tr><th scope=row>fnocig</th><td> 0.11673296</td><td>  0.008534313</td><td> 0.28577801</td></tr>\n",
       "\t<tr><th scope=row>fheight</th><td>-0.10468228</td><td> -0.344766424</td><td> 0.09693142</td></tr>\n",
       "\t<tr><th scope=row>mage35</th><td> 1.38689948</td><td> -6.607146246</td><td>10.15735246</td></tr>\n",
       "</tbody>\n",
       "</table>\n"
      ],
      "text/latex": [
       "A matrix: 9 × 3 of type dbl\n",
       "\\begin{tabular}{r|lll}\n",
       "  &  & 2.5 \\% & 97.5 \\%\\\\\n",
       "\\hline\n",
       "\t(Intercept) & 18.44490330 & -16.773931406 & 60.11755861\\\\\n",
       "\tsmoker &  3.25600836 &   0.206252201 &  7.46118862\\\\\n",
       "\tmage &  0.29747647 &  -0.464966094 &  1.21063843\\\\\n",
       "\tmnocig & -0.07829546 &  -0.265458467 &  0.03006065\\\\\n",
       "\tfage & -0.60305294 &  -1.720519753 & -0.04320799\\\\\n",
       "\tfedyrs &  0.24562977 &  -0.554580311 &  1.24576336\\\\\n",
       "\tfnocig &  0.11673296 &   0.008534313 &  0.28577801\\\\\n",
       "\tfheight & -0.10468228 &  -0.344766424 &  0.09693142\\\\\n",
       "\tmage35 &  1.38689948 &  -6.607146246 & 10.15735246\\\\\n",
       "\\end{tabular}\n"
      ],
      "text/markdown": [
       "\n",
       "A matrix: 9 × 3 of type dbl\n",
       "\n",
       "| <!--/--> | <!----> | 2.5 % | 97.5 % |\n",
       "|---|---|---|---|\n",
       "| (Intercept) | 18.44490330 | -16.773931406 | 60.11755861 |\n",
       "| smoker |  3.25600836 |   0.206252201 |  7.46118862 |\n",
       "| mage |  0.29747647 |  -0.464966094 |  1.21063843 |\n",
       "| mnocig | -0.07829546 |  -0.265458467 |  0.03006065 |\n",
       "| fage | -0.60305294 |  -1.720519753 | -0.04320799 |\n",
       "| fedyrs |  0.24562977 |  -0.554580311 |  1.24576336 |\n",
       "| fnocig |  0.11673296 |   0.008534313 |  0.28577801 |\n",
       "| fheight | -0.10468228 |  -0.344766424 |  0.09693142 |\n",
       "| mage35 |  1.38689948 |  -6.607146246 | 10.15735246 |\n",
       "\n"
      ],
      "text/plain": [
       "                        2.5 %         97.5 %     \n",
       "(Intercept) 18.44490330 -16.773931406 60.11755861\n",
       "smoker       3.25600836   0.206252201  7.46118862\n",
       "mage         0.29747647  -0.464966094  1.21063843\n",
       "mnocig      -0.07829546  -0.265458467  0.03006065\n",
       "fage        -0.60305294  -1.720519753 -0.04320799\n",
       "fedyrs       0.24562977  -0.554580311  1.24576336\n",
       "fnocig       0.11673296   0.008534313  0.28577801\n",
       "fheight     -0.10468228  -0.344766424  0.09693142\n",
       "mage35       1.38689948  -6.607146246 10.15735246"
      ]
     },
     "metadata": {},
     "output_type": "display_data"
    }
   ],
   "source": [
    "cbind(coef(logit1), confint(logit1))   ### CBIND = colum bind"
   ]
  },
  {
   "cell_type": "code",
   "execution_count": 20,
   "metadata": {
    "ExecuteTime": {
     "end_time": "2021-03-09T17:21:14.992378Z",
     "start_time": "2021-03-09T17:21:14.259Z"
    },
    "scrolled": true
   },
   "outputs": [
    {
     "name": "stderr",
     "output_type": "stream",
     "text": [
      "Waiting for profiling to be done...\n",
      "\n",
      "Warning message:\n",
      "\"glm.fit: fitted probabilities numerically 0 or 1 occurred\"\n",
      "Warning message:\n",
      "\"glm.fit: fitted probabilities numerically 0 or 1 occurred\"\n",
      "Warning message:\n",
      "\"glm.fit: fitted probabilities numerically 0 or 1 occurred\"\n",
      "Warning message:\n",
      "\"glm.fit: fitted probabilities numerically 0 or 1 occurred\"\n",
      "Warning message:\n",
      "\"glm.fit: fitted probabilities numerically 0 or 1 occurred\"\n",
      "Warning message:\n",
      "\"glm.fit: fitted probabilities numerically 0 or 1 occurred\"\n",
      "Warning message:\n",
      "\"glm.fit: fitted probabilities numerically 0 or 1 occurred\"\n",
      "Warning message:\n",
      "\"glm.fit: fitted probabilities numerically 0 or 1 occurred\"\n"
     ]
    },
    {
     "data": {
      "text/html": [
       "<table class=\"dataframe\">\n",
       "<caption>A matrix: 9 × 3 of type dbl</caption>\n",
       "<thead>\n",
       "\t<tr><th></th><th scope=col></th><th scope=col>0.5 %</th><th scope=col>99.5 %</th></tr>\n",
       "</thead>\n",
       "<tbody>\n",
       "\t<tr><th scope=row>(Intercept)</th><td>18.44490330</td><td>-28.59157153</td><td>76.56627033</td></tr>\n",
       "\t<tr><th scope=row>smoker</th><td> 3.25600836</td><td> -0.69472829</td><td> 9.26719601</td></tr>\n",
       "\t<tr><th scope=row>mage</th><td> 0.29747647</td><td> -0.73665111</td><td> 1.61140672</td></tr>\n",
       "\t<tr><th scope=row>mnocig</th><td>-0.07829546</td><td> -0.35005894</td><td> 0.06231316</td></tr>\n",
       "\t<tr><th scope=row>fage</th><td>-0.60305294</td><td> -2.27464752</td><td> 0.08897781</td></tr>\n",
       "\t<tr><th scope=row>fedyrs</th><td> 0.24562977</td><td> -0.81198150</td><td> 1.66556127</td></tr>\n",
       "\t<tr><th scope=row>fnocig</th><td> 0.11673296</td><td> -0.02210784</td><td> 0.36349045</td></tr>\n",
       "\t<tr><th scope=row>fheight</th><td>-0.10468228</td><td> -0.44211282</td><td> 0.16617926</td></tr>\n",
       "\t<tr><th scope=row>mage35</th><td> 1.38689948</td><td> -9.66388858</td><td>13.74859451</td></tr>\n",
       "</tbody>\n",
       "</table>\n"
      ],
      "text/latex": [
       "A matrix: 9 × 3 of type dbl\n",
       "\\begin{tabular}{r|lll}\n",
       "  &  & 0.5 \\% & 99.5 \\%\\\\\n",
       "\\hline\n",
       "\t(Intercept) & 18.44490330 & -28.59157153 & 76.56627033\\\\\n",
       "\tsmoker &  3.25600836 &  -0.69472829 &  9.26719601\\\\\n",
       "\tmage &  0.29747647 &  -0.73665111 &  1.61140672\\\\\n",
       "\tmnocig & -0.07829546 &  -0.35005894 &  0.06231316\\\\\n",
       "\tfage & -0.60305294 &  -2.27464752 &  0.08897781\\\\\n",
       "\tfedyrs &  0.24562977 &  -0.81198150 &  1.66556127\\\\\n",
       "\tfnocig &  0.11673296 &  -0.02210784 &  0.36349045\\\\\n",
       "\tfheight & -0.10468228 &  -0.44211282 &  0.16617926\\\\\n",
       "\tmage35 &  1.38689948 &  -9.66388858 & 13.74859451\\\\\n",
       "\\end{tabular}\n"
      ],
      "text/markdown": [
       "\n",
       "A matrix: 9 × 3 of type dbl\n",
       "\n",
       "| <!--/--> | <!----> | 0.5 % | 99.5 % |\n",
       "|---|---|---|---|\n",
       "| (Intercept) | 18.44490330 | -28.59157153 | 76.56627033 |\n",
       "| smoker |  3.25600836 |  -0.69472829 |  9.26719601 |\n",
       "| mage |  0.29747647 |  -0.73665111 |  1.61140672 |\n",
       "| mnocig | -0.07829546 |  -0.35005894 |  0.06231316 |\n",
       "| fage | -0.60305294 |  -2.27464752 |  0.08897781 |\n",
       "| fedyrs |  0.24562977 |  -0.81198150 |  1.66556127 |\n",
       "| fnocig |  0.11673296 |  -0.02210784 |  0.36349045 |\n",
       "| fheight | -0.10468228 |  -0.44211282 |  0.16617926 |\n",
       "| mage35 |  1.38689948 |  -9.66388858 | 13.74859451 |\n",
       "\n"
      ],
      "text/plain": [
       "                        0.5 %        99.5 %     \n",
       "(Intercept) 18.44490330 -28.59157153 76.56627033\n",
       "smoker       3.25600836  -0.69472829  9.26719601\n",
       "mage         0.29747647  -0.73665111  1.61140672\n",
       "mnocig      -0.07829546  -0.35005894  0.06231316\n",
       "fage        -0.60305294  -2.27464752  0.08897781\n",
       "fedyrs       0.24562977  -0.81198150  1.66556127\n",
       "fnocig       0.11673296  -0.02210784  0.36349045\n",
       "fheight     -0.10468228  -0.44211282  0.16617926\n",
       "mage35       1.38689948  -9.66388858 13.74859451"
      ]
     },
     "metadata": {},
     "output_type": "display_data"
    }
   ],
   "source": [
    "cbind(coef(logit1), confint(logit1, level=0.99))"
   ]
  },
  {
   "cell_type": "markdown",
   "metadata": {},
   "source": [
    "## Fitted Values"
   ]
  },
  {
   "cell_type": "code",
   "execution_count": 21,
   "metadata": {
    "ExecuteTime": {
     "end_time": "2021-03-09T17:21:14.996013Z",
     "start_time": "2021-03-09T17:21:14.325Z"
    },
    "scrolled": true
   },
   "outputs": [
    {
     "data": {
      "text/html": [
       "<style>\n",
       ".dl-inline {width: auto; margin:0; padding: 0}\n",
       ".dl-inline>dt, .dl-inline>dd {float: none; width: auto; display: inline-block}\n",
       ".dl-inline>dt::after {content: \":\\0020\"; padding-right: .5ex}\n",
       ".dl-inline>dt:not(:first-of-type) {padding-left: .5ex}\n",
       "</style><dl class=dl-inline><dt>1</dt><dd>0.158162670295136</dd><dt>2</dt><dd>0.0273754779352644</dd><dt>3</dt><dd>0.275082975511387</dd><dt>4</dt><dd>0.00890008199013892</dd><dt>5</dt><dd>0.00014754455750408</dd><dt>6</dt><dd>0.00144867650899979</dd></dl>\n"
      ],
      "text/latex": [
       "\\begin{description*}\n",
       "\\item[1] 0.158162670295136\n",
       "\\item[2] 0.0273754779352644\n",
       "\\item[3] 0.275082975511387\n",
       "\\item[4] 0.00890008199013892\n",
       "\\item[5] 0.00014754455750408\n",
       "\\item[6] 0.00144867650899979\n",
       "\\end{description*}\n"
      ],
      "text/markdown": [
       "1\n",
       ":   0.1581626702951362\n",
       ":   0.02737547793526443\n",
       ":   0.2750829755113874\n",
       ":   0.008900081990138925\n",
       ":   0.000147544557504086\n",
       ":   0.00144867650899979\n",
       "\n"
      ],
      "text/plain": [
       "           1            2            3            4            5            6 \n",
       "0.1581626703 0.0273754779 0.2750829755 0.0089000820 0.0001475446 0.0014486765 "
      ]
     },
     "metadata": {},
     "output_type": "display_data"
    },
    {
     "data": {
      "text/html": [
       "<style>\n",
       ".dl-inline {width: auto; margin:0; padding: 0}\n",
       ".dl-inline>dt, .dl-inline>dd {float: none; width: auto; display: inline-block}\n",
       ".dl-inline>dt::after {content: \":\\0020\"; padding-right: .5ex}\n",
       ".dl-inline>dt:not(:first-of-type) {padding-left: .5ex}\n",
       "</style><dl class=dl-inline><dt>1</dt><dd>0.158162670295136</dd><dt>2</dt><dd>0.0273754779352644</dd><dt>3</dt><dd>0.275082975511387</dd><dt>4</dt><dd>0.00890008199013892</dd><dt>5</dt><dd>0.00014754455750408</dd><dt>6</dt><dd>0.00144867650899979</dd></dl>\n"
      ],
      "text/latex": [
       "\\begin{description*}\n",
       "\\item[1] 0.158162670295136\n",
       "\\item[2] 0.0273754779352644\n",
       "\\item[3] 0.275082975511387\n",
       "\\item[4] 0.00890008199013892\n",
       "\\item[5] 0.00014754455750408\n",
       "\\item[6] 0.00144867650899979\n",
       "\\end{description*}\n"
      ],
      "text/markdown": [
       "1\n",
       ":   0.1581626702951362\n",
       ":   0.02737547793526443\n",
       ":   0.2750829755113874\n",
       ":   0.008900081990138925\n",
       ":   0.000147544557504086\n",
       ":   0.00144867650899979\n",
       "\n"
      ],
      "text/plain": [
       "           1            2            3            4            5            6 \n",
       "0.1581626703 0.0273754779 0.2750829755 0.0089000820 0.0001475446 0.0014486765 "
      ]
     },
     "metadata": {},
     "output_type": "display_data"
    },
    {
     "data": {
      "text/html": [
       "<style>\n",
       ".dl-inline {width: auto; margin:0; padding: 0}\n",
       ".dl-inline>dt, .dl-inline>dd {float: none; width: auto; display: inline-block}\n",
       ".dl-inline>dt::after {content: \":\\0020\"; padding-right: .5ex}\n",
       ".dl-inline>dt:not(:first-of-type) {padding-left: .5ex}\n",
       "</style><dl class=dl-inline><dt>1</dt><dd>0.158162670295136</dd><dt>2</dt><dd>0.0273754779352644</dd><dt>3</dt><dd>0.275082975511387</dd><dt>4</dt><dd>0.00890008199013892</dd><dt>5</dt><dd>0.00014754455750408</dd><dt>6</dt><dd>0.00144867650899979</dd></dl>\n"
      ],
      "text/latex": [
       "\\begin{description*}\n",
       "\\item[1] 0.158162670295136\n",
       "\\item[2] 0.0273754779352644\n",
       "\\item[3] 0.275082975511387\n",
       "\\item[4] 0.00890008199013892\n",
       "\\item[5] 0.00014754455750408\n",
       "\\item[6] 0.00144867650899979\n",
       "\\end{description*}\n"
      ],
      "text/markdown": [
       "1\n",
       ":   0.1581626702951362\n",
       ":   0.02737547793526443\n",
       ":   0.2750829755113874\n",
       ":   0.008900081990138925\n",
       ":   0.000147544557504086\n",
       ":   0.00144867650899979\n",
       "\n"
      ],
      "text/plain": [
       "           1            2            3            4            5            6 \n",
       "0.1581626703 0.0273754779 0.2750829755 0.0089000820 0.0001475446 0.0014486765 "
      ]
     },
     "metadata": {},
     "output_type": "display_data"
    }
   ],
   "source": [
    "head(fitted(logit1))              #probability to use the coupon\n",
    "head(fitted.values(logit1))\n",
    "head(logit1$fitted.values)"
   ]
  },
  {
   "cell_type": "code",
   "execution_count": 22,
   "metadata": {
    "ExecuteTime": {
     "end_time": "2021-03-09T17:21:15.011784Z",
     "start_time": "2021-03-09T17:21:14.326Z"
    }
   },
   "outputs": [
    {
     "data": {
      "text/plain": [
       "\n",
       " 0  1 \n",
       "37  5 "
      ]
     },
     "metadata": {},
     "output_type": "display_data"
    }
   ],
   "source": [
    "table(round(fitted(logit1)))"
   ]
  },
  {
   "cell_type": "markdown",
   "metadata": {},
   "source": [
    "## Deviance"
   ]
  },
  {
   "cell_type": "markdown",
   "metadata": {},
   "source": [
    "The **deviance** is a measure of fit of a generalized linear model. Higher numbers indicate worse fit."
   ]
  },
  {
   "cell_type": "code",
   "execution_count": 23,
   "metadata": {
    "ExecuteTime": {
     "end_time": "2021-03-09T17:21:15.027185Z",
     "start_time": "2021-03-09T17:21:14.448Z"
    }
   },
   "outputs": [
    {
     "data": {
      "text/html": [
       "18.2864872082147"
      ],
      "text/latex": [
       "18.2864872082147"
      ],
      "text/markdown": [
       "18.2864872082147"
      ],
      "text/plain": [
       "[1] 18.28649"
      ]
     },
     "metadata": {},
     "output_type": "display_data"
    }
   ],
   "source": [
    "logit1$deviance"
   ]
  },
  {
   "cell_type": "markdown",
   "metadata": {},
   "source": [
    "The **null deviance** shows how well the response variable is predicted by a model that includes only the intercept (grand mean)."
   ]
  },
  {
   "cell_type": "code",
   "execution_count": 24,
   "metadata": {
    "ExecuteTime": {
     "end_time": "2021-03-09T17:21:15.047885Z",
     "start_time": "2021-03-09T17:21:14.504Z"
    }
   },
   "outputs": [
    {
     "data": {
      "text/html": [
       "34.4497707362263"
      ],
      "text/latex": [
       "34.4497707362263"
      ],
      "text/markdown": [
       "34.4497707362263"
      ],
      "text/plain": [
       "[1] 34.44977"
      ]
     },
     "metadata": {},
     "output_type": "display_data"
    }
   ],
   "source": [
    "logit1$null.deviance"
   ]
  },
  {
   "cell_type": "markdown",
   "metadata": {},
   "source": [
    "## Residuals"
   ]
  },
  {
   "cell_type": "markdown",
   "metadata": {},
   "source": [
    "The GLM provides for different types of residuals:\n",
    "* "
   ]
  },
  {
   "cell_type": "code",
   "execution_count": 25,
   "metadata": {
    "ExecuteTime": {
     "end_time": "2021-03-09T17:21:15.080219Z",
     "start_time": "2021-03-09T17:21:14.624Z"
    }
   },
   "outputs": [
    {
     "data": {
      "text/html": [
       "<style>\n",
       ".dl-inline {width: auto; margin:0; padding: 0}\n",
       ".dl-inline>dt, .dl-inline>dd {float: none; width: auto; display: inline-block}\n",
       ".dl-inline>dt::after {content: \":\\0020\"; padding-right: .5ex}\n",
       ".dl-inline>dt:not(:first-of-type) {padding-left: .5ex}\n",
       "</style><dl class=dl-inline><dt>1</dt><dd>-0.586802315144132</dd><dt>2</dt><dd>-0.235614806122818</dd><dt>3</dt><dd>-0.802119791126575</dd><dt>4</dt><dd>-0.133715551046852</dd><dt>5</dt><dd>-0.017178791766189</dd><dt>6</dt><dd>-0.0538465756635321</dd></dl>\n"
      ],
      "text/latex": [
       "\\begin{description*}\n",
       "\\item[1] -0.586802315144132\n",
       "\\item[2] -0.235614806122818\n",
       "\\item[3] -0.802119791126575\n",
       "\\item[4] -0.133715551046852\n",
       "\\item[5] -0.017178791766189\n",
       "\\item[6] -0.0538465756635321\n",
       "\\end{description*}\n"
      ],
      "text/markdown": [
       "1\n",
       ":   -0.5868023151441322\n",
       ":   -0.2356148061228183\n",
       ":   -0.8021197911265754\n",
       ":   -0.1337155510468525\n",
       ":   -0.0171787917661896\n",
       ":   -0.0538465756635321\n",
       "\n"
      ],
      "text/plain": [
       "          1           2           3           4           5           6 \n",
       "-0.58680232 -0.23561481 -0.80211979 -0.13371555 -0.01717879 -0.05384658 "
      ]
     },
     "metadata": {},
     "output_type": "display_data"
    },
    {
     "data": {
      "text/html": [
       "<style>\n",
       ".dl-inline {width: auto; margin:0; padding: 0}\n",
       ".dl-inline>dt, .dl-inline>dd {float: none; width: auto; display: inline-block}\n",
       ".dl-inline>dt::after {content: \":\\0020\"; padding-right: .5ex}\n",
       ".dl-inline>dt:not(:first-of-type) {padding-left: .5ex}\n",
       "</style><dl class=dl-inline><dt>1</dt><dd>-0.586802315144132</dd><dt>2</dt><dd>-0.235614806122818</dd><dt>3</dt><dd>-0.802119791126575</dd><dt>4</dt><dd>-0.133715551046852</dd><dt>5</dt><dd>-0.017178791766189</dd><dt>6</dt><dd>-0.0538465756635321</dd></dl>\n"
      ],
      "text/latex": [
       "\\begin{description*}\n",
       "\\item[1] -0.586802315144132\n",
       "\\item[2] -0.235614806122818\n",
       "\\item[3] -0.802119791126575\n",
       "\\item[4] -0.133715551046852\n",
       "\\item[5] -0.017178791766189\n",
       "\\item[6] -0.0538465756635321\n",
       "\\end{description*}\n"
      ],
      "text/markdown": [
       "1\n",
       ":   -0.5868023151441322\n",
       ":   -0.2356148061228183\n",
       ":   -0.8021197911265754\n",
       ":   -0.1337155510468525\n",
       ":   -0.0171787917661896\n",
       ":   -0.0538465756635321\n",
       "\n"
      ],
      "text/plain": [
       "          1           2           3           4           5           6 \n",
       "-0.58680232 -0.23561481 -0.80211979 -0.13371555 -0.01717879 -0.05384658 "
      ]
     },
     "metadata": {},
     "output_type": "display_data"
    },
    {
     "data": {
      "text/html": [
       "<style>\n",
       ".dl-inline {width: auto; margin:0; padding: 0}\n",
       ".dl-inline>dt, .dl-inline>dd {float: none; width: auto; display: inline-block}\n",
       ".dl-inline>dt::after {content: \":\\0020\"; padding-right: .5ex}\n",
       ".dl-inline>dt:not(:first-of-type) {padding-left: .5ex}\n",
       "</style><dl class=dl-inline><dt>1</dt><dd>-0.158162670295136</dd><dt>2</dt><dd>-0.0273754779352644</dd><dt>3</dt><dd>-0.275082975511387</dd><dt>4</dt><dd>-0.00890008199013892</dd><dt>5</dt><dd>-0.00014754455750408</dd><dt>6</dt><dd>-0.00144867650899979</dd></dl>\n"
      ],
      "text/latex": [
       "\\begin{description*}\n",
       "\\item[1] -0.158162670295136\n",
       "\\item[2] -0.0273754779352644\n",
       "\\item[3] -0.275082975511387\n",
       "\\item[4] -0.00890008199013892\n",
       "\\item[5] -0.00014754455750408\n",
       "\\item[6] -0.00144867650899979\n",
       "\\end{description*}\n"
      ],
      "text/markdown": [
       "1\n",
       ":   -0.1581626702951362\n",
       ":   -0.02737547793526443\n",
       ":   -0.2750829755113874\n",
       ":   -0.008900081990138925\n",
       ":   -0.000147544557504086\n",
       ":   -0.00144867650899979\n",
       "\n"
      ],
      "text/plain": [
       "            1             2             3             4             5 \n",
       "-0.1581626703 -0.0273754779 -0.2750829755 -0.0089000820 -0.0001475446 \n",
       "            6 \n",
       "-0.0014486765 "
      ]
     },
     "metadata": {},
     "output_type": "display_data"
    },
    {
     "data": {
      "text/html": [
       "<style>\n",
       ".dl-inline {width: auto; margin:0; padding: 0}\n",
       ".dl-inline>dt, .dl-inline>dd {float: none; width: auto; display: inline-block}\n",
       ".dl-inline>dt::after {content: \":\\0020\"; padding-right: .5ex}\n",
       ".dl-inline>dt:not(:first-of-type) {padding-left: .5ex}\n",
       "</style><dl class=dl-inline><dt>1</dt><dd>-0.433448899278277</dd><dt>2</dt><dd>-0.167767660183186</dd><dt>3</dt><dd>-0.616009921641205</dd><dt>4</dt><dd>-0.0947628870858922</dd><dt>5</dt><dd>-0.0121476882620917</dd><dt>6</dt><dd>-0.038089082652684</dd></dl>\n"
      ],
      "text/latex": [
       "\\begin{description*}\n",
       "\\item[1] -0.433448899278277\n",
       "\\item[2] -0.167767660183186\n",
       "\\item[3] -0.616009921641205\n",
       "\\item[4] -0.0947628870858922\n",
       "\\item[5] -0.0121476882620917\n",
       "\\item[6] -0.038089082652684\n",
       "\\end{description*}\n"
      ],
      "text/markdown": [
       "1\n",
       ":   -0.4334488992782772\n",
       ":   -0.1677676601831863\n",
       ":   -0.6160099216412054\n",
       ":   -0.09476288708589225\n",
       ":   -0.01214768826209176\n",
       ":   -0.038089082652684\n",
       "\n"
      ],
      "text/plain": [
       "          1           2           3           4           5           6 \n",
       "-0.43344890 -0.16776766 -0.61600992 -0.09476289 -0.01214769 -0.03808908 "
      ]
     },
     "metadata": {},
     "output_type": "display_data"
    }
   ],
   "source": [
    "head(residuals(logit1))\n",
    "head(residuals(logit1, type='deviance'))\n",
    "head(residuals(logit1, type='response'))\n",
    "head(residuals(logit1, type='pearson'))"
   ]
  },
  {
   "cell_type": "code",
   "execution_count": 26,
   "metadata": {
    "ExecuteTime": {
     "end_time": "2021-03-09T17:21:15.094557Z",
     "start_time": "2021-03-09T17:21:14.624Z"
    }
   },
   "outputs": [
    {
     "data": {
      "text/html": [
       "<style>\n",
       ".dl-inline {width: auto; margin:0; padding: 0}\n",
       ".dl-inline>dt, .dl-inline>dd {float: none; width: auto; display: inline-block}\n",
       ".dl-inline>dt::after {content: \":\\0020\"; padding-right: .5ex}\n",
       ".dl-inline>dt:not(:first-of-type) {padding-left: .5ex}\n",
       "</style><dl class=dl-inline><dt>1</dt><dd>-1.18787794828555</dd><dt>2</dt><dd>-1.02814598780334</dd><dt>3</dt><dd>-1.3794682235604</dd><dt>4</dt><dd>-1.00898000476885</dd><dt>5</dt><dd>-1.00014756633011</dd><dt>6</dt><dd>-1.00145077821732</dd></dl>\n"
      ],
      "text/latex": [
       "\\begin{description*}\n",
       "\\item[1] -1.18787794828555\n",
       "\\item[2] -1.02814598780334\n",
       "\\item[3] -1.3794682235604\n",
       "\\item[4] -1.00898000476885\n",
       "\\item[5] -1.00014756633011\n",
       "\\item[6] -1.00145077821732\n",
       "\\end{description*}\n"
      ],
      "text/markdown": [
       "1\n",
       ":   -1.187877948285552\n",
       ":   -1.028145987803343\n",
       ":   -1.37946822356044\n",
       ":   -1.008980004768855\n",
       ":   -1.000147566330116\n",
       ":   -1.00145077821732\n",
       "\n"
      ],
      "text/plain": [
       "        1         2         3         4         5         6 \n",
       "-1.187878 -1.028146 -1.379468 -1.008980 -1.000148 -1.001451 "
      ]
     },
     "metadata": {},
     "output_type": "display_data"
    }
   ],
   "source": [
    "head(logit1$residuals)"
   ]
  },
  {
   "cell_type": "markdown",
   "metadata": {},
   "source": [
    "## Linear Prediction"
   ]
  },
  {
   "cell_type": "code",
   "execution_count": 27,
   "metadata": {
    "ExecuteTime": {
     "end_time": "2021-03-09T17:21:15.110996Z",
     "start_time": "2021-03-09T17:21:14.692Z"
    }
   },
   "outputs": [
    {
     "data": {
      "text/html": [
       "<style>\n",
       ".dl-inline {width: auto; margin:0; padding: 0}\n",
       ".dl-inline>dt, .dl-inline>dd {float: none; width: auto; display: inline-block}\n",
       ".dl-inline>dt::after {content: \":\\0020\"; padding-right: .5ex}\n",
       ".dl-inline>dt:not(:first-of-type) {padding-left: .5ex}\n",
       "</style><dl class=dl-inline><dt>1</dt><dd>-1.67196273822814</dd><dt>2</dt><dd>-3.57035046374329</dd><dt>3</dt><dd>-0.968984418035858</dd><dt>4</dt><dd>-4.71275486561544</dd><dt>5</dt><dd>-8.82123278758612</dd><dt>6</dt><dd>-6.53565516492039</dd></dl>\n"
      ],
      "text/latex": [
       "\\begin{description*}\n",
       "\\item[1] -1.67196273822814\n",
       "\\item[2] -3.57035046374329\n",
       "\\item[3] -0.968984418035858\n",
       "\\item[4] -4.71275486561544\n",
       "\\item[5] -8.82123278758612\n",
       "\\item[6] -6.53565516492039\n",
       "\\end{description*}\n"
      ],
      "text/markdown": [
       "1\n",
       ":   -1.671962738228142\n",
       ":   -3.570350463743293\n",
       ":   -0.9689844180358584\n",
       ":   -4.712754865615445\n",
       ":   -8.821232787586126\n",
       ":   -6.53565516492039\n",
       "\n"
      ],
      "text/plain": [
       "         1          2          3          4          5          6 \n",
       "-1.6719627 -3.5703505 -0.9689844 -4.7127549 -8.8212328 -6.5356552 "
      ]
     },
     "metadata": {},
     "output_type": "display_data"
    }
   ],
   "source": [
    "head(predict(logit1))"
   ]
  },
  {
   "cell_type": "code",
   "execution_count": 28,
   "metadata": {
    "ExecuteTime": {
     "end_time": "2021-03-09T17:21:15.239927Z",
     "start_time": "2021-03-09T17:21:14.693Z"
    }
   },
   "outputs": [],
   "source": [
    "?predict.glm"
   ]
  },
  {
   "cell_type": "code",
   "execution_count": 29,
   "metadata": {
    "ExecuteTime": {
     "end_time": "2021-03-09T17:21:15.240693Z",
     "start_time": "2021-03-09T17:21:14.693Z"
    }
   },
   "outputs": [
    {
     "data": {
      "text/html": [
       "<style>\n",
       ".dl-inline {width: auto; margin:0; padding: 0}\n",
       ".dl-inline>dt, .dl-inline>dd {float: none; width: auto; display: inline-block}\n",
       ".dl-inline>dt::after {content: \":\\0020\"; padding-right: .5ex}\n",
       ".dl-inline>dt:not(:first-of-type) {padding-left: .5ex}\n",
       "</style><dl class=dl-inline><dt>(Intercept)</dt><dd>18.4449032979221</dd><dt>smoker</dt><dd>3.2560083611097</dd><dt>mage</dt><dd>0.297476466247327</dd><dt>mnocig</dt><dd>-0.0782954591194901</dd><dt>fage</dt><dd>-0.603052942811575</dd><dt>fedyrs</dt><dd>0.245629774408031</dd><dt>fnocig</dt><dd>0.116732955506332</dd><dt>fheight</dt><dd>-0.104682284152137</dd><dt>mage35</dt><dd>1.38689948250294</dd></dl>\n"
      ],
      "text/latex": [
       "\\begin{description*}\n",
       "\\item[(Intercept)] 18.4449032979221\n",
       "\\item[smoker] 3.2560083611097\n",
       "\\item[mage] 0.297476466247327\n",
       "\\item[mnocig] -0.0782954591194901\n",
       "\\item[fage] -0.603052942811575\n",
       "\\item[fedyrs] 0.245629774408031\n",
       "\\item[fnocig] 0.116732955506332\n",
       "\\item[fheight] -0.104682284152137\n",
       "\\item[mage35] 1.38689948250294\n",
       "\\end{description*}\n"
      ],
      "text/markdown": [
       "(Intercept)\n",
       ":   18.4449032979221smoker\n",
       ":   3.2560083611097mage\n",
       ":   0.297476466247327mnocig\n",
       ":   -0.0782954591194901fage\n",
       ":   -0.603052942811575fedyrs\n",
       ":   0.245629774408031fnocig\n",
       ":   0.116732955506332fheight\n",
       ":   -0.104682284152137mage35\n",
       ":   1.38689948250294\n",
       "\n"
      ],
      "text/plain": [
       "(Intercept)      smoker        mage      mnocig        fage      fedyrs \n",
       "18.44490330  3.25600836  0.29747647 -0.07829546 -0.60305294  0.24562977 \n",
       "     fnocig     fheight      mage35 \n",
       " 0.11673296 -0.10468228  1.38689948 "
      ]
     },
     "metadata": {},
     "output_type": "display_data"
    }
   ],
   "source": [
    "coef(logit1)"
   ]
  },
  {
   "cell_type": "code",
   "execution_count": 39,
   "metadata": {
    "ExecuteTime": {
     "end_time": "2021-03-09T17:21:15.254215Z",
     "start_time": "2021-03-09T17:21:14.694Z"
    }
   },
   "outputs": [],
   "source": [
    "linpred <- function(smoker, fnocig)\n",
    "{\n",
    "    c <- coef(logit1)\n",
    "    c[1]+c[2]*smoker+c[7]*fnocig\n",
    "}"
   ]
  },
  {
   "cell_type": "code",
   "execution_count": 35,
   "metadata": {
    "ExecuteTime": {
     "end_time": "2021-03-09T17:21:15.269773Z",
     "start_time": "2021-03-09T17:21:14.694Z"
    }
   },
   "outputs": [
    {
     "data": {
      "text/html": [
       "<strong>(Intercept):</strong> 26.2018949194718"
      ],
      "text/latex": [
       "\\textbf{(Intercept):} 26.2018949194718"
      ],
      "text/markdown": [
       "**(Intercept):** 26.2018949194718"
      ],
      "text/plain": [
       "(Intercept) \n",
       "   26.20189 "
      ]
     },
     "metadata": {},
     "output_type": "display_data"
    }
   ],
   "source": [
    "linpred(2.291,1)"
   ]
  },
  {
   "cell_type": "markdown",
   "metadata": {},
   "source": [
    "## Response Prediction"
   ]
  },
  {
   "cell_type": "code",
   "execution_count": 42,
   "metadata": {
    "ExecuteTime": {
     "end_time": "2021-03-09T17:21:15.314774Z",
     "start_time": "2021-03-09T17:21:14.761Z"
    },
    "scrolled": true
   },
   "outputs": [
    {
     "data": {
      "text/html": [
       "<style>\n",
       ".dl-inline {width: auto; margin:0; padding: 0}\n",
       ".dl-inline>dt, .dl-inline>dd {float: none; width: auto; display: inline-block}\n",
       ".dl-inline>dt::after {content: \":\\0020\"; padding-right: .5ex}\n",
       ".dl-inline>dt:not(:first-of-type) {padding-left: .5ex}\n",
       "</style><dl class=dl-inline><dt>1</dt><dd>0.158162670295136</dd><dt>2</dt><dd>0.0273754779352644</dd><dt>3</dt><dd>0.275082975511387</dd><dt>4</dt><dd>0.00890008199013892</dd><dt>5</dt><dd>0.00014754455750408</dd><dt>6</dt><dd>0.00144867650899979</dd></dl>\n"
      ],
      "text/latex": [
       "\\begin{description*}\n",
       "\\item[1] 0.158162670295136\n",
       "\\item[2] 0.0273754779352644\n",
       "\\item[3] 0.275082975511387\n",
       "\\item[4] 0.00890008199013892\n",
       "\\item[5] 0.00014754455750408\n",
       "\\item[6] 0.00144867650899979\n",
       "\\end{description*}\n"
      ],
      "text/markdown": [
       "1\n",
       ":   0.1581626702951362\n",
       ":   0.02737547793526443\n",
       ":   0.2750829755113874\n",
       ":   0.008900081990138925\n",
       ":   0.000147544557504086\n",
       ":   0.00144867650899979\n",
       "\n"
      ],
      "text/plain": [
       "           1            2            3            4            5            6 \n",
       "0.1581626703 0.0273754779 0.2750829755 0.0089000820 0.0001475446 0.0014486765 "
      ]
     },
     "metadata": {},
     "output_type": "display_data"
    },
    {
     "data": {
      "text/html": [
       "<style>\n",
       ".dl-inline {width: auto; margin:0; padding: 0}\n",
       ".dl-inline>dt, .dl-inline>dd {float: none; width: auto; display: inline-block}\n",
       ".dl-inline>dt::after {content: \":\\0020\"; padding-right: .5ex}\n",
       ".dl-inline>dt:not(:first-of-type) {padding-left: .5ex}\n",
       "</style><dl class=dl-inline><dt>1</dt><dd>0.158162670295136</dd><dt>2</dt><dd>0.0273754779352644</dd><dt>3</dt><dd>0.275082975511387</dd><dt>4</dt><dd>0.00890008199013892</dd><dt>5</dt><dd>0.00014754455750408</dd><dt>6</dt><dd>0.00144867650899979</dd></dl>\n"
      ],
      "text/latex": [
       "\\begin{description*}\n",
       "\\item[1] 0.158162670295136\n",
       "\\item[2] 0.0273754779352644\n",
       "\\item[3] 0.275082975511387\n",
       "\\item[4] 0.00890008199013892\n",
       "\\item[5] 0.00014754455750408\n",
       "\\item[6] 0.00144867650899979\n",
       "\\end{description*}\n"
      ],
      "text/markdown": [
       "1\n",
       ":   0.1581626702951362\n",
       ":   0.02737547793526443\n",
       ":   0.2750829755113874\n",
       ":   0.008900081990138925\n",
       ":   0.000147544557504086\n",
       ":   0.00144867650899979\n",
       "\n"
      ],
      "text/plain": [
       "           1            2            3            4            5            6 \n",
       "0.1581626703 0.0273754779 0.2750829755 0.0089000820 0.0001475446 0.0014486765 "
      ]
     },
     "metadata": {},
     "output_type": "display_data"
    }
   ],
   "source": [
    "head(predict(logit1, type='response'))\n",
    "head(fitted(logit1))"
   ]
  },
  {
   "cell_type": "code",
   "execution_count": 68,
   "metadata": {
    "ExecuteTime": {
     "end_time": "2021-03-09T17:21:15.334625Z",
     "start_time": "2021-03-09T17:21:14.762Z"
    }
   },
   "outputs": [
    {
     "data": {
      "text/plain": [
       "      predicted\n",
       "actual  0  1\n",
       "     0 35  1\n",
       "     1  2  4"
      ]
     },
     "metadata": {},
     "output_type": "display_data"
    }
   ],
   "source": [
    "actual <- childbirths$lowbwt\n",
    "predicted <- round(fitted(logit1))\n",
    "xtabs <- xtabs(~ actual + predicted)\n",
    "xtabs"
   ]
  },
  {
   "cell_type": "markdown",
   "metadata": {},
   "source": [
    "# Evaluating the model"
   ]
  },
  {
   "cell_type": "code",
   "execution_count": 69,
   "metadata": {},
   "outputs": [
    {
     "data": {
      "text/html": [
       "0.928571428571429"
      ],
      "text/latex": [
       "0.928571428571429"
      ],
      "text/markdown": [
       "0.928571428571429"
      ],
      "text/plain": [
       "[1] 0.9285714"
      ]
     },
     "metadata": {},
     "output_type": "display_data"
    }
   ],
   "source": [
    "accuracy <- (xtabs[1,1]+xtabs[2,2])/sum(xtabs)\n",
    "accuracy"
   ]
  },
  {
   "cell_type": "markdown",
   "metadata": {},
   "source": [
    "## Confidence Intervals for exp(B)"
   ]
  },
  {
   "cell_type": "markdown",
   "metadata": {},
   "source": [
    "...should not cross 1."
   ]
  },
  {
   "cell_type": "code",
   "execution_count": null,
   "metadata": {
    "ExecuteTime": {
     "end_time": "2021-03-09T17:21:15.374514Z",
     "start_time": "2021-03-09T17:21:14.762Z"
    }
   },
   "outputs": [],
   "source": [
    "exp(cbind(OR = coef(logit1), confint(logit1)))"
   ]
  },
  {
   "cell_type": "code",
   "execution_count": 52,
   "metadata": {
    "ExecuteTime": {
     "end_time": "2021-03-09T17:21:15.394714Z",
     "start_time": "2021-03-09T17:21:14.763Z"
    }
   },
   "outputs": [],
   "source": [
    "pred <- function(smoker, fnocig)\n",
    "{\n",
    "    b <- exp(linpred(smoker, fnocig))\n",
    "    b/(1+b)\n",
    "}\n",
    "\n",
    "odd <- function(smoker, fnocig) { b <- pred(smoker, fnocig); b/(1-b) }"
   ]
  },
  {
   "cell_type": "code",
   "execution_count": null,
   "metadata": {},
   "outputs": [],
   "source": []
  },
  {
   "cell_type": "code",
   "execution_count": 59,
   "metadata": {},
   "outputs": [],
   "source": [
    "fit1 <- glm(lowbwt~smoker+fnocig,data = childbirths, family=binomial)"
   ]
  },
  {
   "cell_type": "code",
   "execution_count": 60,
   "metadata": {},
   "outputs": [
    {
     "data": {
      "text/plain": [
       "\n",
       "Call:  glm(formula = lowbwt ~ smoker + fnocig, family = binomial, data = childbirths)\n",
       "\n",
       "Coefficients:\n",
       "(Intercept)       smoker       fnocig  \n",
       "   -3.29799      1.28702      0.02968  \n",
       "\n",
       "Degrees of Freedom: 41 Total (i.e. Null);  39 Residual\n",
       "Null Deviance:\t    34.45 \n",
       "Residual Deviance: 30.34 \tAIC: 36.34"
      ]
     },
     "metadata": {},
     "output_type": "display_data"
    }
   ],
   "source": [
    "fit1"
   ]
  },
  {
   "cell_type": "code",
   "execution_count": 61,
   "metadata": {},
   "outputs": [
    {
     "data": {
      "text/plain": [
       "\n",
       "Call:\n",
       "glm(formula = lowbwt ~ smoker + fnocig, family = binomial, data = childbirths)\n",
       "\n",
       "Deviance Residuals: \n",
       "    Min       1Q   Median       3Q      Max  \n",
       "-0.9633  -0.5817  -0.3866  -0.2694   2.5823  \n",
       "\n",
       "Coefficients:\n",
       "            Estimate Std. Error z value Pr(>|z|)   \n",
       "(Intercept) -3.29799    1.10362  -2.988   0.0028 **\n",
       "smoker       1.28702    1.22563   1.050   0.2937   \n",
       "fnocig       0.02968    0.02793   1.063   0.2879   \n",
       "---\n",
       "Signif. codes:  0 '***' 0.001 '**' 0.01 '*' 0.05 '.' 0.1 ' ' 1\n",
       "\n",
       "(Dispersion parameter for binomial family taken to be 1)\n",
       "\n",
       "    Null deviance: 34.450  on 41  degrees of freedom\n",
       "Residual deviance: 30.341  on 39  degrees of freedom\n",
       "AIC: 36.341\n",
       "\n",
       "Number of Fisher Scoring iterations: 5\n"
      ]
     },
     "metadata": {},
     "output_type": "display_data"
    }
   ],
   "source": [
    "summary(fit1)  # not really working"
   ]
  },
  {
   "cell_type": "markdown",
   "metadata": {},
   "source": [
    "## Compare against Original Data"
   ]
  },
  {
   "cell_type": "code",
   "execution_count": 53,
   "metadata": {
    "ExecuteTime": {
     "end_time": "2021-03-09T17:21:15.408397Z",
     "start_time": "2021-03-09T17:21:14.829Z"
    }
   },
   "outputs": [],
   "source": [
    "childbirths['Predicted'] <- round(fitted(logit1),3)"
   ]
  },
  {
   "cell_type": "code",
   "execution_count": 117,
   "metadata": {
    "ExecuteTime": {
     "end_time": "2021-03-09T17:21:15.430690Z",
     "start_time": "2021-03-09T17:21:14.830Z"
    }
   },
   "outputs": [
    {
     "data": {
      "text/html": [
       "<table class=\"dataframe\">\n",
       "<caption>A data.frame: 6 × 16</caption>\n",
       "<thead>\n",
       "\t<tr><th></th><th scope=col>Length</th><th scope=col>Birthweight</th><th scope=col>Headcirc</th><th scope=col>Gestation</th><th scope=col>smoker</th><th scope=col>mage</th><th scope=col>mnocig</th><th scope=col>mheight</th><th scope=col>mppwt</th><th scope=col>fage</th><th scope=col>fedyrs</th><th scope=col>fnocig</th><th scope=col>fheight</th><th scope=col>lowbwt</th><th scope=col>mage35</th><th scope=col>Predicted</th></tr>\n",
       "\t<tr><th></th><th scope=col>&lt;int&gt;</th><th scope=col>&lt;dbl&gt;</th><th scope=col>&lt;int&gt;</th><th scope=col>&lt;int&gt;</th><th scope=col>&lt;int&gt;</th><th scope=col>&lt;int&gt;</th><th scope=col>&lt;int&gt;</th><th scope=col>&lt;int&gt;</th><th scope=col>&lt;int&gt;</th><th scope=col>&lt;int&gt;</th><th scope=col>&lt;int&gt;</th><th scope=col>&lt;int&gt;</th><th scope=col>&lt;int&gt;</th><th scope=col>&lt;int&gt;</th><th scope=col>&lt;int&gt;</th><th scope=col>&lt;dbl&gt;</th></tr>\n",
       "</thead>\n",
       "<tbody>\n",
       "\t<tr><th scope=row>1</th><td>56</td><td>4.55</td><td>34</td><td>44</td><td>0</td><td>20</td><td>0</td><td>162</td><td>57</td><td>23</td><td>10</td><td>35</td><td>179</td><td>0</td><td>0</td><td>0.158</td></tr>\n",
       "\t<tr><th scope=row>2</th><td>53</td><td>4.32</td><td>36</td><td>40</td><td>0</td><td>19</td><td>0</td><td>171</td><td>62</td><td>19</td><td>12</td><td> 0</td><td>183</td><td>0</td><td>0</td><td>0.027</td></tr>\n",
       "\t<tr><th scope=row>3</th><td>58</td><td>4.10</td><td>39</td><td>41</td><td>0</td><td>35</td><td>0</td><td>172</td><td>58</td><td>31</td><td>16</td><td>25</td><td>185</td><td>0</td><td>1</td><td>0.275</td></tr>\n",
       "\t<tr><th scope=row>4</th><td>53</td><td>4.07</td><td>38</td><td>44</td><td>0</td><td>20</td><td>0</td><td>174</td><td>68</td><td>26</td><td>14</td><td>25</td><td>189</td><td>0</td><td>0</td><td>0.009</td></tr>\n",
       "\t<tr><th scope=row>5</th><td>54</td><td>3.94</td><td>37</td><td>42</td><td>0</td><td>24</td><td>0</td><td>175</td><td>66</td><td>30</td><td>12</td><td> 0</td><td>184</td><td>0</td><td>0</td><td>0.000</td></tr>\n",
       "\t<tr><th scope=row>6</th><td>51</td><td>3.93</td><td>38</td><td>38</td><td>0</td><td>29</td><td>0</td><td>165</td><td>61</td><td>31</td><td>16</td><td> 0</td><td>180</td><td>0</td><td>0</td><td>0.001</td></tr>\n",
       "</tbody>\n",
       "</table>\n"
      ],
      "text/latex": [
       "A data.frame: 6 × 16\n",
       "\\begin{tabular}{r|llllllllllllllll}\n",
       "  & Length & Birthweight & Headcirc & Gestation & smoker & mage & mnocig & mheight & mppwt & fage & fedyrs & fnocig & fheight & lowbwt & mage35 & Predicted\\\\\n",
       "  & <int> & <dbl> & <int> & <int> & <int> & <int> & <int> & <int> & <int> & <int> & <int> & <int> & <int> & <int> & <int> & <dbl>\\\\\n",
       "\\hline\n",
       "\t1 & 56 & 4.55 & 34 & 44 & 0 & 20 & 0 & 162 & 57 & 23 & 10 & 35 & 179 & 0 & 0 & 0.158\\\\\n",
       "\t2 & 53 & 4.32 & 36 & 40 & 0 & 19 & 0 & 171 & 62 & 19 & 12 &  0 & 183 & 0 & 0 & 0.027\\\\\n",
       "\t3 & 58 & 4.10 & 39 & 41 & 0 & 35 & 0 & 172 & 58 & 31 & 16 & 25 & 185 & 0 & 1 & 0.275\\\\\n",
       "\t4 & 53 & 4.07 & 38 & 44 & 0 & 20 & 0 & 174 & 68 & 26 & 14 & 25 & 189 & 0 & 0 & 0.009\\\\\n",
       "\t5 & 54 & 3.94 & 37 & 42 & 0 & 24 & 0 & 175 & 66 & 30 & 12 &  0 & 184 & 0 & 0 & 0.000\\\\\n",
       "\t6 & 51 & 3.93 & 38 & 38 & 0 & 29 & 0 & 165 & 61 & 31 & 16 &  0 & 180 & 0 & 0 & 0.001\\\\\n",
       "\\end{tabular}\n"
      ],
      "text/markdown": [
       "\n",
       "A data.frame: 6 × 16\n",
       "\n",
       "| <!--/--> | Length &lt;int&gt; | Birthweight &lt;dbl&gt; | Headcirc &lt;int&gt; | Gestation &lt;int&gt; | smoker &lt;int&gt; | mage &lt;int&gt; | mnocig &lt;int&gt; | mheight &lt;int&gt; | mppwt &lt;int&gt; | fage &lt;int&gt; | fedyrs &lt;int&gt; | fnocig &lt;int&gt; | fheight &lt;int&gt; | lowbwt &lt;int&gt; | mage35 &lt;int&gt; | Predicted &lt;dbl&gt; |\n",
       "|---|---|---|---|---|---|---|---|---|---|---|---|---|---|---|---|---|\n",
       "| 1 | 56 | 4.55 | 34 | 44 | 0 | 20 | 0 | 162 | 57 | 23 | 10 | 35 | 179 | 0 | 0 | 0.158 |\n",
       "| 2 | 53 | 4.32 | 36 | 40 | 0 | 19 | 0 | 171 | 62 | 19 | 12 |  0 | 183 | 0 | 0 | 0.027 |\n",
       "| 3 | 58 | 4.10 | 39 | 41 | 0 | 35 | 0 | 172 | 58 | 31 | 16 | 25 | 185 | 0 | 1 | 0.275 |\n",
       "| 4 | 53 | 4.07 | 38 | 44 | 0 | 20 | 0 | 174 | 68 | 26 | 14 | 25 | 189 | 0 | 0 | 0.009 |\n",
       "| 5 | 54 | 3.94 | 37 | 42 | 0 | 24 | 0 | 175 | 66 | 30 | 12 |  0 | 184 | 0 | 0 | 0.000 |\n",
       "| 6 | 51 | 3.93 | 38 | 38 | 0 | 29 | 0 | 165 | 61 | 31 | 16 |  0 | 180 | 0 | 0 | 0.001 |\n",
       "\n"
      ],
      "text/plain": [
       "  Length Birthweight Headcirc Gestation smoker mage mnocig mheight mppwt fage\n",
       "1 56     4.55        34       44        0      20   0      162     57    23  \n",
       "2 53     4.32        36       40        0      19   0      171     62    19  \n",
       "3 58     4.10        39       41        0      35   0      172     58    31  \n",
       "4 53     4.07        38       44        0      20   0      174     68    26  \n",
       "5 54     3.94        37       42        0      24   0      175     66    30  \n",
       "6 51     3.93        38       38        0      29   0      165     61    31  \n",
       "  fedyrs fnocig fheight lowbwt mage35 Predicted\n",
       "1 10     35     179     0      0      0.158    \n",
       "2 12      0     183     0      0      0.027    \n",
       "3 16     25     185     0      1      0.275    \n",
       "4 14     25     189     0      0      0.009    \n",
       "5 12      0     184     0      0      0.000    \n",
       "6 16      0     180     0      0      0.001    "
      ]
     },
     "metadata": {},
     "output_type": "display_data"
    }
   ],
   "source": [
    "head(childbirths)"
   ]
  },
  {
   "cell_type": "code",
   "execution_count": 55,
   "metadata": {
    "ExecuteTime": {
     "end_time": "2021-03-09T17:21:15.450533Z",
     "start_time": "2021-03-09T17:21:14.830Z"
    }
   },
   "outputs": [
    {
     "data": {
      "text/html": [
       "<strong>(Intercept):</strong> 0.999999999835902"
      ],
      "text/latex": [
       "\\textbf{(Intercept):} 0.999999999835902"
      ],
      "text/markdown": [
       "**(Intercept):** 0.999999999835902"
      ],
      "text/plain": [
       "(Intercept) \n",
       "          1 "
      ]
     },
     "metadata": {},
     "output_type": "display_data"
    }
   ],
   "source": [
    "pred(0, 35)"
   ]
  },
  {
   "cell_type": "code",
   "execution_count": 57,
   "metadata": {
    "ExecuteTime": {
     "end_time": "2021-03-09T17:21:15.469234Z",
     "start_time": "2021-03-09T17:21:14.831Z"
    }
   },
   "outputs": [
    {
     "data": {
      "text/html": [
       "<strong>(Intercept):</strong> 0.999999999833835"
      ],
      "text/latex": [
       "\\textbf{(Intercept):} 0.999999999833835"
      ],
      "text/markdown": [
       "**(Intercept):** 0.999999999833835"
      ],
      "text/plain": [
       "(Intercept) \n",
       "          1 "
      ]
     },
     "metadata": {},
     "output_type": "display_data"
    }
   ],
   "source": [
    "pred(1, 7)"
   ]
  },
  {
   "cell_type": "markdown",
   "metadata": {},
   "source": [
    "## Compare with Example from Lecture"
   ]
  },
  {
   "cell_type": "code",
   "execution_count": null,
   "metadata": {
    "ExecuteTime": {
     "end_time": "2021-03-09T17:21:15.488401Z",
     "start_time": "2021-03-09T17:21:14.888Z"
    }
   },
   "outputs": [],
   "source": [
    "pred(2,1)"
   ]
  },
  {
   "cell_type": "code",
   "execution_count": null,
   "metadata": {
    "ExecuteTime": {
     "end_time": "2021-03-09T17:21:15.503712Z",
     "start_time": "2021-03-09T17:21:14.888Z"
    }
   },
   "outputs": [],
   "source": [
    "pred(2,0)"
   ]
  },
  {
   "cell_type": "code",
   "execution_count": null,
   "metadata": {
    "ExecuteTime": {
     "end_time": "2021-03-09T17:21:15.519145Z",
     "start_time": "2021-03-09T17:21:14.889Z"
    }
   },
   "outputs": [],
   "source": [
    "odd(2,1)"
   ]
  },
  {
   "cell_type": "code",
   "execution_count": null,
   "metadata": {
    "ExecuteTime": {
     "end_time": "2021-03-09T17:21:15.537465Z",
     "start_time": "2021-03-09T17:21:14.889Z"
    }
   },
   "outputs": [],
   "source": [
    "odd(2,0)"
   ]
  },
  {
   "cell_type": "code",
   "execution_count": null,
   "metadata": {
    "ExecuteTime": {
     "end_time": "2021-03-09T17:21:15.557797Z",
     "start_time": "2021-03-09T17:21:14.890Z"
    }
   },
   "outputs": [],
   "source": [
    "odd(2,1)/odd(2,0)\n",
    "exp(coef(logit)[3])"
   ]
  },
  {
   "cell_type": "code",
   "execution_count": null,
   "metadata": {},
   "outputs": [],
   "source": [
    "plot(logit)"
   ]
  }
 ],
 "metadata": {
  "kernelspec": {
   "display_name": "R 4.0.3",
   "language": "R",
   "name": "ir35"
  },
  "language_info": {
   "codemirror_mode": "r",
   "file_extension": ".r",
   "mimetype": "text/x-r-source",
   "name": "R",
   "pygments_lexer": "r",
   "version": "4.0.3"
  },
  "latex_envs": {
   "LaTeX_envs_menu_present": true,
   "autoclose": false,
   "autocomplete": true,
   "bibliofile": "biblio.bib",
   "cite_by": "apalike",
   "current_citInitial": 1,
   "eqLabelWithNumbers": true,
   "eqNumInitial": 1,
   "hotkeys": {
    "equation": "Ctrl-E",
    "itemize": "Ctrl-I"
   },
   "labels_anchors": false,
   "latex_user_defs": false,
   "report_style_numbering": false,
   "user_envs_cfg": false
  },
  "toc": {
   "base_numbering": 1,
   "nav_menu": {},
   "number_sections": true,
   "sideBar": true,
   "skip_h1_title": false,
   "title_cell": "Table of Contents",
   "title_sidebar": "Contents",
   "toc_cell": false,
   "toc_position": {},
   "toc_section_display": true,
   "toc_window_display": false
  }
 },
 "nbformat": 4,
 "nbformat_minor": 4
}
